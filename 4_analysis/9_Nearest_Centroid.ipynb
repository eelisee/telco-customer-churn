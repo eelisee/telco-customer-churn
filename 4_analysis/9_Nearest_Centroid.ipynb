{
 "cells": [
  {
   "cell_type": "markdown",
   "metadata": {},
   "source": [
    "# 9. Nearest Centroid"
   ]
  },
  {
   "cell_type": "markdown",
   "metadata": {},
   "source": [
    "The Nearest Centroid classifier is a simple and intuitive classification algorithm. It works by calculating the centroid (mean) of each class in the training data and then classifying a new data point based on the nearest centroid.\n",
    "The k-NN classifier, on the other hand, classifies a new data point based on the majority class among its k nearest neighbors in the training data.\n",
    "\n",
    "### Reasons to Use Nearest Centroid\n",
    "1. **Simplicity and Speed**: Nearest Centroid is computationally simpler and faster, especially for large datasets, because it only requires calculating the mean of each class during training and a simple distance calculation during prediction.\n",
    "\n",
    "2. **Noise Robustness**: Nearest Centroid can be more robust to noise in the data. Since it uses the mean of each class, it is less affected by individual noisy data points compared to k-NN, which considers the nearest neighbors that might include noisy points.\n",
    "\n",
    "3. **Memory Efficiency**: Nearest Centroid requires less memory as it only needs to store the centroids of each class, whereas k-NN needs to store all training data points.\n",
    "\n",
    "4. **Interpretability**: The centroids can provide a clear and interpretable representation of each class, which can be useful for understanding the data.\n",
    "\n",
    "### We use k-NN for\n",
    "1. **Non-linear Boundaries**: k-NN can capture more complex, non-linear decision boundaries because it considers the local structure of the data.\n",
    "\n",
    "2. **Small Datasets**: k-NN can be more effective for small datasets where the computational cost is not prohibitive, and the local structure is more important.\n",
    "\n",
    "3. **Parameter Tuning**: k-NN provides flexibility with the choice of k, which can be tuned to optimize performance.\n",
    "\n",
    "Both Nearest Centroid and k-NN have their strengths and weaknesses. Using both can provide complementary insights and potentially better performance depending on the specific characteristics of the dataset and the problem at hand."
   ]
  },
  {
   "cell_type": "code",
   "execution_count": 17,
   "metadata": {},
   "outputs": [],
   "source": [
    "# 1. Import necessary libraries\n",
    "import pandas as pd\n",
    "import matplotlib.pyplot as plt\n",
    "import seaborn as sns\n",
    "from sklearn.metrics import precision_score, accuracy_score, recall_score, f1_score, roc_auc_score"
   ]
  },
  {
   "cell_type": "code",
   "execution_count": 18,
   "metadata": {},
   "outputs": [
    {
     "name": "stdout",
     "output_type": "stream",
     "text": [
      "X_train shape: (3885, 91)\n",
      "X_test shape: (1409, 91)\n",
      "y_train shape: (3885,)\n",
      "y_test shape: (1409,)\n"
     ]
    }
   ],
   "source": [
    "df = pd.read_csv(\"../2_data/X_train_outlierremoved.csv\")\n",
    "\n",
    "# Load the dataset\n",
    "\n",
    "# Read the dataset from CSV files\n",
    "X_train = pd.read_csv(\"../2_data/X_train_outlierremoved.csv\")  \n",
    "X_test = pd.read_csv(\"../2_data/X_test.csv\")\n",
    "y_train = pd.read_csv(\"../2_data/y_train_outlierremoved.csv\")\n",
    "y_test = pd.read_csv(\"../2_data/y_test.csv\")\n",
    "\n",
    "# Ensure the target variable has the correct shape (1D array)\n",
    "y_train = y_train.values.ravel()\n",
    "y_test = y_test.values.ravel()\n",
    "\n",
    "print(f\"X_train shape: {X_train.shape}\")\n",
    "print(f\"X_test shape: {X_test.shape}\")\n",
    "print(f\"y_train shape: {y_train.shape}\")\n",
    "print(f\"y_test shape: {y_test.shape}\")"
   ]
  },
  {
   "cell_type": "markdown",
   "metadata": {},
   "source": [
    "## Feature Preparation"
   ]
  },
  {
   "cell_type": "code",
   "execution_count": 19,
   "metadata": {},
   "outputs": [
    {
     "name": "stdout",
     "output_type": "stream",
     "text": [
      "X_train_scaled shape: (3885, 91)\n",
      "X_test_scaled shape: (1409, 91)\n"
     ]
    }
   ],
   "source": [
    "from sklearn.preprocessing import StandardScaler\n",
    "\n",
    "# Initialize the scaler\n",
    "scaler = StandardScaler()\n",
    "\n",
    "# Fit the scaler on the training data and transform both training and test data\n",
    "X_train_scaled = scaler.fit_transform(X_train)\n",
    "X_test_scaled = scaler.transform(X_test)\n",
    "\n",
    "print(f\"X_train_scaled shape: {X_train_scaled.shape}\")\n",
    "print(f\"X_test_scaled shape: {X_test_scaled.shape}\")"
   ]
  },
  {
   "cell_type": "code",
   "execution_count": 20,
   "metadata": {},
   "outputs": [
    {
     "name": "stdout",
     "output_type": "stream",
     "text": [
      "Centroids of each class:\n",
      "[[ 0.          0.00177776 -0.06400303  0.0341174  -0.0800171   0.04920345\n",
      "   0.11910803  0.10571003 -0.02479625  0.01237735  0.02608484 -0.01419688\n",
      "   0.05032419  0.12911232  0.13303647 -0.00880312 -0.00546899 -0.05715945\n",
      "  -0.11791083 -0.02239623  0.06017069  0.00527747  0.00570001  0.06029135\n",
      "  -0.07163342 -0.06935358 -0.0391313  -0.11585217 -0.10173624 -0.12534588\n",
      "   0.04236699  0.          0.          0.07145897  0.05590965  0.36813229\n",
      "   0.06120031  0.04920345  0.13268429 -0.12534588  0.          0.\n",
      "   0.          0.0565403   0.04685479 -0.00844762 -0.02615718 -0.04971911\n",
      "   0.01619041  0.04667883 -0.1522852  -0.20677477  0.06926443  0.15529027\n",
      "  -0.09315684  0.09669719 -0.00573289 -0.10970931  0.11791083  0.00570001\n",
      "  -0.15799503  0.11791083  0.06029135  0.02608484 -0.01419691  0.01697232\n",
      "   0.1205336  -0.0230057  -0.10689307  0.04824723 -0.05480019 -0.06981857\n",
      "  -0.11272811  0.13303647  0.00573289 -0.00573289 -0.12535311 -0.00161453\n",
      "  -0.04114937  0.04615554  0.          0.         -0.10949735  0.10846386\n",
      "   0.03829112 -0.06732015 -0.07965565  0.07198857  0.04401132 -0.06016355\n",
      "  -0.0782851 ]\n",
      " [ 0.         -0.00700927  0.25234781 -0.1345163   0.31548726 -0.19399683\n",
      "  -0.46961295 -0.41678802  0.09776536 -0.04880077 -0.10284596  0.05597472\n",
      "  -0.1984156  -0.50905735 -0.52452928  0.0347085   0.02156285  0.22536533\n",
      "   0.4648927   0.0883027  -0.23723789 -0.02080774 -0.02247371 -0.2377136\n",
      "   0.28243253  0.2734437   0.15428485  0.45677592  0.40112035  0.49420722\n",
      "  -0.16704238  0.          0.         -0.28174472 -0.22043767 -1.45145289\n",
      "  -0.24129739 -0.19399683 -0.52314072  0.49420722  0.          0.\n",
      "   0.         -0.22292414 -0.18473665  0.03330683  0.10313116  0.19602993\n",
      "  -0.06383469 -0.18404288  0.60042219  0.81526082 -0.27309219 -0.6122704\n",
      "   0.36729395 -0.38125265  0.02260334  0.43255616 -0.4648927  -0.02247371\n",
      "   0.6229346  -0.4648927  -0.2377136  -0.10284596  0.05597484 -0.0669176\n",
      "  -0.47523363  0.0907057   0.42145245 -0.19022667  0.21606333  0.27527702\n",
      "   0.44445855 -0.52452928 -0.02260334  0.02260334  0.49423573  0.0063657\n",
      "   0.16224159 -0.18197968  0.          0.          0.43172045 -0.42764569\n",
      "  -0.15097223  0.26542639  0.31406216 -0.28383278 -0.17352555  0.23720974\n",
      "   0.30865843]]\n"
     ]
    }
   ],
   "source": [
    "from sklearn.neighbors import NearestCentroid\n",
    "\n",
    "# Initialize the Nearest Centroid classifier\n",
    "clf = NearestCentroid()\n",
    "\n",
    "# Train the classifier on the scaled training data\n",
    "clf.fit(X_train_scaled, y_train)\n",
    "\n",
    "# Print the centroids of each class\n",
    "print(\"Centroids of each class:\")\n",
    "print(clf.centroids_)"
   ]
  },
  {
   "cell_type": "code",
   "execution_count": 21,
   "metadata": {},
   "outputs": [
    {
     "name": "stderr",
     "output_type": "stream",
     "text": [
      "/Users/canis/Library/CloudStorage/OneDrive-Persönlich/Dokumente/programme/coding/github/telco-customer-churn/.venv/lib/python3.11/site-packages/sklearn/model_selection/_validation.py:1000: UserWarning: Scoring failed. The score on this train-test partition for these parameters will be set to nan. Details: \n",
      "Traceback (most recent call last):\n",
      "  File \"/Users/canis/Library/CloudStorage/OneDrive-Persönlich/Dokumente/programme/coding/github/telco-customer-churn/.venv/lib/python3.11/site-packages/sklearn/metrics/_scorer.py\", line 139, in __call__\n",
      "    score = scorer._score(\n",
      "            ^^^^^^^^^^^^^^\n",
      "  File \"/Users/canis/Library/CloudStorage/OneDrive-Persönlich/Dokumente/programme/coding/github/telco-customer-churn/.venv/lib/python3.11/site-packages/sklearn/metrics/_scorer.py\", line 370, in _score\n",
      "    response_method = _check_response_method(estimator, self._response_method)\n",
      "                      ^^^^^^^^^^^^^^^^^^^^^^^^^^^^^^^^^^^^^^^^^^^^^^^^^^^^^^^^\n",
      "  File \"/Users/canis/Library/CloudStorage/OneDrive-Persönlich/Dokumente/programme/coding/github/telco-customer-churn/.venv/lib/python3.11/site-packages/sklearn/utils/validation.py\", line 2145, in _check_response_method\n",
      "    raise AttributeError(\n",
      "AttributeError: NearestCentroid has none of the following attributes: decision_function, predict_proba.\n",
      "\n",
      "  warnings.warn(\n",
      "/Users/canis/Library/CloudStorage/OneDrive-Persönlich/Dokumente/programme/coding/github/telco-customer-churn/.venv/lib/python3.11/site-packages/sklearn/model_selection/_validation.py:1000: UserWarning: Scoring failed. The score on this train-test partition for these parameters will be set to nan. Details: \n",
      "Traceback (most recent call last):\n",
      "  File \"/Users/canis/Library/CloudStorage/OneDrive-Persönlich/Dokumente/programme/coding/github/telco-customer-churn/.venv/lib/python3.11/site-packages/sklearn/metrics/_scorer.py\", line 139, in __call__\n",
      "    score = scorer._score(\n",
      "            ^^^^^^^^^^^^^^\n",
      "  File \"/Users/canis/Library/CloudStorage/OneDrive-Persönlich/Dokumente/programme/coding/github/telco-customer-churn/.venv/lib/python3.11/site-packages/sklearn/metrics/_scorer.py\", line 370, in _score\n",
      "    response_method = _check_response_method(estimator, self._response_method)\n",
      "                      ^^^^^^^^^^^^^^^^^^^^^^^^^^^^^^^^^^^^^^^^^^^^^^^^^^^^^^^^\n",
      "  File \"/Users/canis/Library/CloudStorage/OneDrive-Persönlich/Dokumente/programme/coding/github/telco-customer-churn/.venv/lib/python3.11/site-packages/sklearn/utils/validation.py\", line 2145, in _check_response_method\n",
      "    raise AttributeError(\n",
      "AttributeError: NearestCentroid has none of the following attributes: decision_function, predict_proba.\n",
      "\n",
      "  warnings.warn(\n",
      "/Users/canis/Library/CloudStorage/OneDrive-Persönlich/Dokumente/programme/coding/github/telco-customer-churn/.venv/lib/python3.11/site-packages/sklearn/model_selection/_validation.py:1000: UserWarning: Scoring failed. The score on this train-test partition for these parameters will be set to nan. Details: \n",
      "Traceback (most recent call last):\n",
      "  File \"/Users/canis/Library/CloudStorage/OneDrive-Persönlich/Dokumente/programme/coding/github/telco-customer-churn/.venv/lib/python3.11/site-packages/sklearn/metrics/_scorer.py\", line 139, in __call__\n",
      "    score = scorer._score(\n",
      "            ^^^^^^^^^^^^^^\n",
      "  File \"/Users/canis/Library/CloudStorage/OneDrive-Persönlich/Dokumente/programme/coding/github/telco-customer-churn/.venv/lib/python3.11/site-packages/sklearn/metrics/_scorer.py\", line 370, in _score\n",
      "    response_method = _check_response_method(estimator, self._response_method)\n",
      "                      ^^^^^^^^^^^^^^^^^^^^^^^^^^^^^^^^^^^^^^^^^^^^^^^^^^^^^^^^\n",
      "  File \"/Users/canis/Library/CloudStorage/OneDrive-Persönlich/Dokumente/programme/coding/github/telco-customer-churn/.venv/lib/python3.11/site-packages/sklearn/utils/validation.py\", line 2145, in _check_response_method\n",
      "    raise AttributeError(\n",
      "AttributeError: NearestCentroid has none of the following attributes: decision_function, predict_proba.\n",
      "\n",
      "  warnings.warn(\n",
      "/Users/canis/Library/CloudStorage/OneDrive-Persönlich/Dokumente/programme/coding/github/telco-customer-churn/.venv/lib/python3.11/site-packages/sklearn/model_selection/_validation.py:1000: UserWarning: Scoring failed. The score on this train-test partition for these parameters will be set to nan. Details: \n",
      "Traceback (most recent call last):\n",
      "  File \"/Users/canis/Library/CloudStorage/OneDrive-Persönlich/Dokumente/programme/coding/github/telco-customer-churn/.venv/lib/python3.11/site-packages/sklearn/metrics/_scorer.py\", line 139, in __call__\n",
      "    score = scorer._score(\n",
      "            ^^^^^^^^^^^^^^\n",
      "  File \"/Users/canis/Library/CloudStorage/OneDrive-Persönlich/Dokumente/programme/coding/github/telco-customer-churn/.venv/lib/python3.11/site-packages/sklearn/metrics/_scorer.py\", line 370, in _score\n",
      "    response_method = _check_response_method(estimator, self._response_method)\n",
      "                      ^^^^^^^^^^^^^^^^^^^^^^^^^^^^^^^^^^^^^^^^^^^^^^^^^^^^^^^^\n",
      "  File \"/Users/canis/Library/CloudStorage/OneDrive-Persönlich/Dokumente/programme/coding/github/telco-customer-churn/.venv/lib/python3.11/site-packages/sklearn/utils/validation.py\", line 2145, in _check_response_method\n",
      "    raise AttributeError(\n",
      "AttributeError: NearestCentroid has none of the following attributes: decision_function, predict_proba.\n",
      "\n",
      "  warnings.warn(\n",
      "/Users/canis/Library/CloudStorage/OneDrive-Persönlich/Dokumente/programme/coding/github/telco-customer-churn/.venv/lib/python3.11/site-packages/sklearn/model_selection/_validation.py:1000: UserWarning: Scoring failed. The score on this train-test partition for these parameters will be set to nan. Details: \n",
      "Traceback (most recent call last):\n",
      "  File \"/Users/canis/Library/CloudStorage/OneDrive-Persönlich/Dokumente/programme/coding/github/telco-customer-churn/.venv/lib/python3.11/site-packages/sklearn/metrics/_scorer.py\", line 139, in __call__\n",
      "    score = scorer._score(\n",
      "            ^^^^^^^^^^^^^^\n",
      "  File \"/Users/canis/Library/CloudStorage/OneDrive-Persönlich/Dokumente/programme/coding/github/telco-customer-churn/.venv/lib/python3.11/site-packages/sklearn/metrics/_scorer.py\", line 370, in _score\n",
      "    response_method = _check_response_method(estimator, self._response_method)\n",
      "                      ^^^^^^^^^^^^^^^^^^^^^^^^^^^^^^^^^^^^^^^^^^^^^^^^^^^^^^^^\n",
      "  File \"/Users/canis/Library/CloudStorage/OneDrive-Persönlich/Dokumente/programme/coding/github/telco-customer-churn/.venv/lib/python3.11/site-packages/sklearn/utils/validation.py\", line 2145, in _check_response_method\n",
      "    raise AttributeError(\n",
      "AttributeError: NearestCentroid has none of the following attributes: decision_function, predict_proba.\n",
      "\n",
      "  warnings.warn(\n",
      "/Users/canis/Library/CloudStorage/OneDrive-Persönlich/Dokumente/programme/coding/github/telco-customer-churn/.venv/lib/python3.11/site-packages/sklearn/model_selection/_validation.py:1000: UserWarning: Scoring failed. The score on this train-test partition for these parameters will be set to nan. Details: \n",
      "Traceback (most recent call last):\n",
      "  File \"/Users/canis/Library/CloudStorage/OneDrive-Persönlich/Dokumente/programme/coding/github/telco-customer-churn/.venv/lib/python3.11/site-packages/sklearn/metrics/_scorer.py\", line 139, in __call__\n",
      "    score = scorer._score(\n",
      "            ^^^^^^^^^^^^^^\n",
      "  File \"/Users/canis/Library/CloudStorage/OneDrive-Persönlich/Dokumente/programme/coding/github/telco-customer-churn/.venv/lib/python3.11/site-packages/sklearn/metrics/_scorer.py\", line 370, in _score\n",
      "    response_method = _check_response_method(estimator, self._response_method)\n",
      "                      ^^^^^^^^^^^^^^^^^^^^^^^^^^^^^^^^^^^^^^^^^^^^^^^^^^^^^^^^\n",
      "  File \"/Users/canis/Library/CloudStorage/OneDrive-Persönlich/Dokumente/programme/coding/github/telco-customer-churn/.venv/lib/python3.11/site-packages/sklearn/utils/validation.py\", line 2145, in _check_response_method\n",
      "    raise AttributeError(\n",
      "AttributeError: NearestCentroid has none of the following attributes: decision_function, predict_proba.\n",
      "\n",
      "  warnings.warn(\n",
      "/Users/canis/Library/CloudStorage/OneDrive-Persönlich/Dokumente/programme/coding/github/telco-customer-churn/.venv/lib/python3.11/site-packages/sklearn/model_selection/_validation.py:1000: UserWarning: Scoring failed. The score on this train-test partition for these parameters will be set to nan. Details: \n",
      "Traceback (most recent call last):\n",
      "  File \"/Users/canis/Library/CloudStorage/OneDrive-Persönlich/Dokumente/programme/coding/github/telco-customer-churn/.venv/lib/python3.11/site-packages/sklearn/metrics/_scorer.py\", line 139, in __call__\n",
      "    score = scorer._score(\n",
      "            ^^^^^^^^^^^^^^\n",
      "  File \"/Users/canis/Library/CloudStorage/OneDrive-Persönlich/Dokumente/programme/coding/github/telco-customer-churn/.venv/lib/python3.11/site-packages/sklearn/metrics/_scorer.py\", line 370, in _score\n",
      "    response_method = _check_response_method(estimator, self._response_method)\n",
      "                      ^^^^^^^^^^^^^^^^^^^^^^^^^^^^^^^^^^^^^^^^^^^^^^^^^^^^^^^^\n",
      "  File \"/Users/canis/Library/CloudStorage/OneDrive-Persönlich/Dokumente/programme/coding/github/telco-customer-churn/.venv/lib/python3.11/site-packages/sklearn/utils/validation.py\", line 2145, in _check_response_method\n",
      "    raise AttributeError(\n",
      "AttributeError: NearestCentroid has none of the following attributes: decision_function, predict_proba.\n",
      "\n",
      "  warnings.warn(\n",
      "/Users/canis/Library/CloudStorage/OneDrive-Persönlich/Dokumente/programme/coding/github/telco-customer-churn/.venv/lib/python3.11/site-packages/sklearn/model_selection/_validation.py:1000: UserWarning: Scoring failed. The score on this train-test partition for these parameters will be set to nan. Details: \n",
      "Traceback (most recent call last):\n",
      "  File \"/Users/canis/Library/CloudStorage/OneDrive-Persönlich/Dokumente/programme/coding/github/telco-customer-churn/.venv/lib/python3.11/site-packages/sklearn/metrics/_scorer.py\", line 139, in __call__\n",
      "    score = scorer._score(\n",
      "            ^^^^^^^^^^^^^^\n",
      "  File \"/Users/canis/Library/CloudStorage/OneDrive-Persönlich/Dokumente/programme/coding/github/telco-customer-churn/.venv/lib/python3.11/site-packages/sklearn/metrics/_scorer.py\", line 370, in _score\n",
      "    response_method = _check_response_method(estimator, self._response_method)\n",
      "                      ^^^^^^^^^^^^^^^^^^^^^^^^^^^^^^^^^^^^^^^^^^^^^^^^^^^^^^^^\n",
      "  File \"/Users/canis/Library/CloudStorage/OneDrive-Persönlich/Dokumente/programme/coding/github/telco-customer-churn/.venv/lib/python3.11/site-packages/sklearn/utils/validation.py\", line 2145, in _check_response_method\n",
      "    raise AttributeError(\n",
      "AttributeError: NearestCentroid has none of the following attributes: decision_function, predict_proba.\n",
      "\n",
      "  warnings.warn(\n",
      "/Users/canis/Library/CloudStorage/OneDrive-Persönlich/Dokumente/programme/coding/github/telco-customer-churn/.venv/lib/python3.11/site-packages/sklearn/model_selection/_validation.py:1000: UserWarning: Scoring failed. The score on this train-test partition for these parameters will be set to nan. Details: \n",
      "Traceback (most recent call last):\n",
      "  File \"/Users/canis/Library/CloudStorage/OneDrive-Persönlich/Dokumente/programme/coding/github/telco-customer-churn/.venv/lib/python3.11/site-packages/sklearn/metrics/_scorer.py\", line 139, in __call__\n",
      "    score = scorer._score(\n",
      "            ^^^^^^^^^^^^^^\n",
      "  File \"/Users/canis/Library/CloudStorage/OneDrive-Persönlich/Dokumente/programme/coding/github/telco-customer-churn/.venv/lib/python3.11/site-packages/sklearn/metrics/_scorer.py\", line 370, in _score\n",
      "    response_method = _check_response_method(estimator, self._response_method)\n",
      "                      ^^^^^^^^^^^^^^^^^^^^^^^^^^^^^^^^^^^^^^^^^^^^^^^^^^^^^^^^\n",
      "  File \"/Users/canis/Library/CloudStorage/OneDrive-Persönlich/Dokumente/programme/coding/github/telco-customer-churn/.venv/lib/python3.11/site-packages/sklearn/utils/validation.py\", line 2145, in _check_response_method\n",
      "    raise AttributeError(\n",
      "AttributeError: NearestCentroid has none of the following attributes: decision_function, predict_proba.\n",
      "\n",
      "  warnings.warn(\n",
      "/Users/canis/Library/CloudStorage/OneDrive-Persönlich/Dokumente/programme/coding/github/telco-customer-churn/.venv/lib/python3.11/site-packages/sklearn/model_selection/_validation.py:1000: UserWarning: Scoring failed. The score on this train-test partition for these parameters will be set to nan. Details: \n",
      "Traceback (most recent call last):\n",
      "  File \"/Users/canis/Library/CloudStorage/OneDrive-Persönlich/Dokumente/programme/coding/github/telco-customer-churn/.venv/lib/python3.11/site-packages/sklearn/metrics/_scorer.py\", line 139, in __call__\n",
      "    score = scorer._score(\n",
      "            ^^^^^^^^^^^^^^\n",
      "  File \"/Users/canis/Library/CloudStorage/OneDrive-Persönlich/Dokumente/programme/coding/github/telco-customer-churn/.venv/lib/python3.11/site-packages/sklearn/metrics/_scorer.py\", line 370, in _score\n",
      "    response_method = _check_response_method(estimator, self._response_method)\n",
      "                      ^^^^^^^^^^^^^^^^^^^^^^^^^^^^^^^^^^^^^^^^^^^^^^^^^^^^^^^^\n",
      "  File \"/Users/canis/Library/CloudStorage/OneDrive-Persönlich/Dokumente/programme/coding/github/telco-customer-churn/.venv/lib/python3.11/site-packages/sklearn/utils/validation.py\", line 2145, in _check_response_method\n",
      "    raise AttributeError(\n",
      "AttributeError: NearestCentroid has none of the following attributes: decision_function, predict_proba.\n",
      "\n",
      "  warnings.warn(\n"
     ]
    }
   ],
   "source": [
    "from sklearn.model_selection import cross_val_score\n",
    "\n",
    "# Perform cross-validation and evaluate the model\n",
    "accuracy_scores = cross_val_score(clf, X_train_scaled, y_train, cv=10, scoring='accuracy')\n",
    "precision_scores = cross_val_score(clf, X_train_scaled, y_train, cv=10, scoring='precision_weighted')\n",
    "recall_scores = cross_val_score(clf, X_train_scaled, y_train, cv=10, scoring='recall_weighted')\n",
    "f1_scores = cross_val_score(clf, X_train_scaled, y_train, cv=10, scoring='f1_weighted')\n",
    "roc_auc_scores = cross_val_score(clf, X_train_scaled, y_train, cv=10, scoring='roc_auc')\n",
    "\n",
    "\n",
    "# Calculate the averages\n",
    "average_scores = {\n",
    "    'accuracy': accuracy_scores.mean(),\n",
    "    'precision': precision_scores.mean(),\n",
    "    'recall': recall_scores.mean(),\n",
    "    'f1': f1_scores.mean(),\n",
    "    'roc_auc': roc_auc_scores.mean()\n",
    "}\n",
    "\n",
    "# Convert the averages to a DataFrame\n",
    "average_scores_df = pd.DataFrame([average_scores])\n",
    "\n",
    "# Save the averages to a CSV file\n",
    "average_scores_df.to_csv(\"../2_data/evaluation_metrics/NearestCentroid_cv_outlier.csv\", index=False)"
   ]
  },
  {
   "cell_type": "code",
   "execution_count": 22,
   "metadata": {},
   "outputs": [],
   "source": [
    "# Make predictions on the scaled test data\n",
    "y_pred = clf.predict(X_test_scaled)\n",
    "\n",
    "# Evaluate the model\n",
    "accuracy = accuracy_score(y_test, y_pred)\n",
    "precision = precision_score(y_test, y_pred, average='weighted')\n",
    "recall = recall_score(y_test, y_pred, average='weighted')\n",
    "f1 = f1_score(y_test, y_pred, average='weighted')\n",
    "roc_auc = roc_auc_score(y_test, y_pred)"
   ]
  },
  {
   "cell_type": "code",
   "execution_count": 23,
   "metadata": {},
   "outputs": [
    {
     "name": "stdout",
     "output_type": "stream",
     "text": [
      "Accuracy: 0.78\n",
      "Precision: 0.84\n",
      "Recall: 0.78\n",
      "F1 Score: 0.79\n",
      "ROC AUC Score: 0.82\n"
     ]
    }
   ],
   "source": [
    "print(f'Accuracy: {accuracy:.2f}')\n",
    "print(f'Precision: {precision:.2f}')\n",
    "print(f'Recall: {recall:.2f}')\n",
    "print(f'F1 Score: {f1:.2f}')\n",
    "print(f'ROC AUC Score: {roc_auc:.2f}')\n",
    "\n",
    "\n",
    "evaluation_metrics = {\n",
    "    \"accuracy\": accuracy,\n",
    "    \"precision\": precision,\n",
    "    \"recall\": recall,\n",
    "    \"f1\": f1,\n",
    "    \"roc_auc\": roc_auc\n",
    "}\n",
    "evaluation_df = pd.DataFrame([evaluation_metrics])\n",
    "evaluation_df.to_csv(\"../2_data/evaluation_metrics/NearestCentroid_prediction_outlier.csv\", index=False)\n"
   ]
  },
  {
   "cell_type": "markdown",
   "metadata": {},
   "source": [
    "## Evaluation\n",
    "\n",
    "1. **Accuracy**\n",
    "    - Accuracy measures the proportion of correct classifications made by the model. In the context of customer churn prediction, it indicates the overall number of customers correctly classified as either churned or not churned.\n",
    "    - In this project, an accuracy of 0.80 suggests that the Nearest Centroid model performs well in distinguishing between customers who will churn and those who will not. However, accuracy alone may not be the most reliable metric for an imbalanced dataset, like churn prediction, where the number of churned customers is much smaller compared to non-churned customers.\n",
    "\n",
    "2. **Precision and Recall**\n",
    "    - Precision is the proportion of correctly predicted positive observations (churned customers) out of all observations predicted to be positive.\n",
    "    - Recall is the proportion of correctly predicted positive observations out of all actual positive observations (all churned customers).\n",
    "    - In churn prediction, precision helps to minimize false positives, ensuring that customers classified as likely to churn are actually at risk of churning. Recall helps to minimize false negatives, ensuring the model does not miss many of the churned customers. These metrics are particularly useful when dealing with imbalanced datasets.\n",
    "    - The Nearest Centroid model achieved a precision of 0.84 and a recall of 0.80, indicating that it is good at identifying most of the churned customers with a moderate number of false positives.\n",
    "\n",
    "3. **F1-Score**\n",
    "    - The F1-Score is the harmonic mean of precision and recall, providing a balance between both metrics. It is particularly useful when you need a single score that considers both false positives and false negatives.\n",
    "    - In churn prediction, the F1-score is useful because it provides a balance between precision and recall, especially when a high recall or high precision alone might not be sufficient. The Nearest Centroid model achieved an F1-score of 0.81, indicating a good balance between precision and recall.\n",
    "\n",
    "4. **ROC-AUC Score**\n",
    "    - The ROC-AUC score measures the ability of the model to distinguish between positive and negative classes (churned vs. not churned). It is a summary of the ROC curve, where AUC represents the area under the curve. A higher AUC value indicates better performance in distinguishing between the two classes.\n",
    "    - In churn prediction, the ROC-AUC score helps evaluate the model's ability to correctly differentiate churned customers from those who do not churn. It is particularly useful in assessing different thresholds to understand the model's overall performance in distinguishing between classes.\n",
    "    - The Nearest Centroid model achieved a ROC-AUC score of 0.81, indicating a good ability to distinguish between churned and non-churned customers.\n"
   ]
  },
  {
   "cell_type": "code",
   "execution_count": 24,
   "metadata": {},
   "outputs": [
    {
     "data": {
      "image/png": "[encoded data removed]",
      "text/plain": [
       "<Figure size 1200x800 with 1 Axes>"
      ]
     },
     "metadata": {},
     "output_type": "display_data"
    }
   ],
   "source": [
    "# Convert centroids to a DataFrame for easier plotting\n",
    "centroids_df = pd.DataFrame(clf.centroids_, columns=X_train.columns)\n",
    "\n",
    "# Plot the centroids with a scatter plot for better visualization\n",
    "plt.figure(figsize=(12, 8))\n",
    "for i, centroid in enumerate(clf.centroids_):\n",
    "    plt.scatter(range(len(centroid)), centroid, label=f'Class {i}', s=100)\n",
    "\n",
    "plt.title('Centroids of Each Class')\n",
    "plt.xlabel('Features')\n",
    "plt.ylabel('Centroid Values')\n",
    "plt.legend()\n",
    "plt.show()"
   ]
  }
 ],
 "metadata": {
  "kernelspec": {
   "display_name": ".venv",
   "language": "python",
   "name": "python3"
  },
  "language_info": {
   "codemirror_mode": {
    "name": "ipython",
    "version": 3
   },
   "file_extension": ".py",
   "mimetype": "text/x-python",
   "name": "python",
   "nbconvert_exporter": "python",
   "pygments_lexer": "ipython3",
   "version": "3.11.5"
  }
 },
 "nbformat": 4,
 "nbformat_minor": 2
}
