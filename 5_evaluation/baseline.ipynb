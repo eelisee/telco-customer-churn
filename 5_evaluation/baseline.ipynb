{
 "cells": [
  {
   "cell_type": "markdown",
   "metadata": {},
   "source": [
    "# Baseline"
   ]
  },
  {
   "cell_type": "markdown",
   "metadata": {},
   "source": [
    "always predict the majority class"
   ]
  },
  {
   "cell_type": "code",
   "execution_count": 11,
   "metadata": {},
   "outputs": [],
   "source": [
    "import pandas as pd\n",
    "\n",
    "# Load the pre-split data\n",
    "X_train = pd.read_csv(\"../2_data/X_train.csv\")\n",
    "X_test = pd.read_csv(\"../2_data/X_test.csv\")\n",
    "y_train = pd.read_csv(\"../2_data/y_train.csv\").squeeze()  # Use squeeze to convert DataFrame to Series\n",
    "y_test = pd.read_csv(\"../2_data/y_test.csv\").squeeze()"
   ]
  },
  {
   "cell_type": "code",
   "execution_count": 14,
   "metadata": {},
   "outputs": [
    {
     "name": "stdout",
     "output_type": "stream",
     "text": [
      "Baseline performance predicting always the majority class\n",
      "Accuracy: 0.734564\n",
      "Precision: 0.734564\n",
      "Recall: 1.000000\n",
      "F1-score: 0.622155\n"
     ]
    }
   ],
   "source": [
    "from sklearn.metrics import accuracy_score, f1_score, precision_score, recall_score\n",
    "\n",
    "def evaluate_baseline(y_test, predictions):\n",
    "    base_accuracy = accuracy_score(y_test, predictions)\n",
    "    base_precision = precision_score(y_test, predictions, pos_label=majority_class)\n",
    "    base_recall = recall_score(y_test, predictions, pos_label=majority_class)\n",
    "    base_f1_weighted = f1_score(y_test, predictions, average='weighted')\n",
    "    print(f\"Accuracy: {base_accuracy:.6f}\")\n",
    "    print(f\"Precision: {base_precision:.6f}\")\n",
    "    print(f\"Recall: {base_recall:.6f}\")\n",
    "    print(f\"F1-score: {base_f1_weighted:.6f}\")\n",
    "    return base_f1_weighted\n",
    "\n",
    "# Compute predictions (always predict majority class)\n",
    "majority_class = y_train.mode()[0]\n",
    "predictions = [majority_class] * len(y_test)\n",
    "\n",
    "# Evaluate baseline model\n",
    "print(\"Baseline performance predicting always the majority class\")\n",
    "majority_baseline_f1 = evaluate_baseline(y_test, predictions)"
   ]
  }
 ],
 "metadata": {
  "kernelspec": {
   "display_name": ".venv",
   "language": "python",
   "name": "python3"
  },
  "language_info": {
   "codemirror_mode": {
    "name": "ipython",
    "version": 3
   },
   "file_extension": ".py",
   "mimetype": "text/x-python",
   "name": "python",
   "nbconvert_exporter": "python",
   "pygments_lexer": "ipython3",
   "version": "3.11.5"
  }
 },
 "nbformat": 4,
 "nbformat_minor": 2
}
