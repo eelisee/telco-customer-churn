{
 "cells": [
  {
   "cell_type": "markdown",
   "metadata": {},
   "source": [
    "# Evaluation"
   ]
  },
  {
   "cell_type": "code",
   "execution_count": null,
   "metadata": {},
   "outputs": [],
   "source": [
    "import pandas as pd\n",
    "import numpy as np\n",
    "import matplotlib.pyplot as plt\n",
    "import seaborn as sns\n",
    "from sklearn.metrics import (\n",
    "    accuracy_score, precision_score, recall_score, f1_score, roc_auc_score, roc_curve, confusion_matrix\n",
    ")"
   ]
  },
  {
   "cell_type": "code",
   "execution_count": null,
   "metadata": {},
   "outputs": [],
   "source": [
    "# Example paths for predicted results and true labels\n",
    "files = {\n",
    "    \"Logistic Regression\": \"logistic_regression_predictions.csv\",\n",
    "    \"Random Forest\": \"random_forest_predictions.csv\",\n",
    "    \"XGBoost\": \"xgboost_predictions.csv\"\n",
    "}\n",
    "\n",
    "# Read predictions into a dictionary of DataFrames\n",
    "results = {\n",
    "    model: pd.read_csv(file)\n",
    "    for model, file in files.items()\n",
    "}\n",
    "\n",
    "# Each file should have `y_true` (true labels) and `y_pred` (predicted labels or probabilities)"
   ]
  },
  {
   "cell_type": "markdown",
   "metadata": {},
   "source": []
  }
 ],
 "metadata": {
  "kernelspec": {
   "display_name": ".venv",
   "language": "python",
   "name": "python3"
  },
  "language_info": {
   "name": "python",
   "version": "3.11.5"
  }
 },
 "nbformat": 4,
 "nbformat_minor": 2
}
