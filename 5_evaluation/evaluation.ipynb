{
 "cells": [
  {
   "cell_type": "markdown",
   "metadata": {},
   "source": [
    "# Evaluation"
   ]
  },
  {
   "cell_type": "code",
   "execution_count": 8,
   "metadata": {},
   "outputs": [],
   "source": [
    "import pandas as pd\n",
    "import numpy as np\n",
    "import matplotlib.pyplot as plt\n",
    "import seaborn as sns\n",
    "from sklearn.metrics import (\n",
    "    accuracy_score, precision_score, recall_score, f1_score, roc_auc_score, roc_curve, confusion_matrix\n",
    ")"
   ]
  },
  {
   "cell_type": "code",
   "execution_count": 9,
   "metadata": {},
   "outputs": [],
   "source": [
    "# Example paths for predicted results and true labels\n",
    "files = {\n",
    "    \"Logistic Regression\": \"../2_data/evaluation_metrics/LogisticRegression.csv\",\n",
    "    \"Random Forest\": \"../2_data/evaluation_metrics/DecisionTree.csv\",\n",
    "    \"XGBoost\": \"../2_data/evaluation_metrics/XGBoost.csv\",\n",
    "    \"Baseline\": \"../2_data/evaluation_metrics/Baseline.csv\",\n",
    "    \"KNN\": \"../2_data/evaluation_metrics/KNN.csv\",\n",
    "    \"Naive Bayes\": \"../2_data/evaluation_metrics/NaiveBayes.csv\"\n",
    "}\n",
    "\n",
    "# Read predictions into a dictionary of DataFrames\n",
    "results = {\n",
    "    model: pd.read_csv(file)\n",
    "    for model, file in files.items()\n",
    "}"
   ]
  },
  {
   "cell_type": "markdown",
   "metadata": {},
   "source": []
  },
  {
   "cell_type": "code",
   "execution_count": 11,
   "metadata": {},
   "outputs": [
    {
     "name": "stdout",
     "output_type": "stream",
     "text": [
      "The best model is XGBoost with an average score of 0.9393\n"
     ]
    }
   ],
   "source": [
    "# Initialize a dictionary to store the average scores for each model\n",
    "average_scores = {}\n",
    "\n",
    "# Calculate the average score for each model\n",
    "for model, df in results.items():\n",
    "    scores = {\n",
    "        'accuracy': df['accuracy'].mean(),\n",
    "        'precision': df['precision'].mean(),\n",
    "        'recall': df['recall'].mean(),\n",
    "        'f1': df['f1'].mean(),\n",
    "        'roc_auc': df['roc_auc'].mean() if 'roc_auc' in df.columns else 0\n",
    "    }\n",
    "    average_scores[model] = np.mean(list(scores.values()))\n",
    "\n",
    "# Determine the best model based on the highest average score\n",
    "best_model = max(average_scores, key=average_scores.get)\n",
    "print(f\"The best model is {best_model} with an average score of {average_scores[best_model]:.4f}\")\n"
   ]
  },
  {
   "cell_type": "code",
   "execution_count": null,
   "metadata": {},
   "outputs": [],
   "source": []
  }
 ],
 "metadata": {
  "kernelspec": {
   "display_name": ".venv",
   "language": "python",
   "name": "python3"
  },
  "language_info": {
   "codemirror_mode": {
    "name": "ipython",
    "version": 3
   },
   "file_extension": ".py",
   "mimetype": "text/x-python",
   "name": "python",
   "nbconvert_exporter": "python",
   "pygments_lexer": "ipython3",
   "version": "3.11.5"
  }
 },
 "nbformat": 4,
 "nbformat_minor": 2
}
