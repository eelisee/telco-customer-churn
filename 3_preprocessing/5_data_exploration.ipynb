{
 "cells": [
  {
   "cell_type": "markdown",
   "metadata": {},
   "source": [
    "# Step 5: Data Exploration"
   ]
  },
  {
   "cell_type": "markdown",
   "metadata": {},
   "source": [
    "## Preprocessing Pipeline Overview\n",
    "\n",
    "This preprocessing pipeline outlines the steps necessary to prepare the Telco Customer Churn dataset for our modeling. Each step is designed to address specific aspects of data quality, transformation, and feature creation. We will cover each step in a separate jupyter notebook file.\n",
    "\n",
    "**Step 1: Data Loading**: Loading the datasets into the workspace, ensuring all necessary files are correctly imported for analysis. This includes the Kaggle dataset and the IBM datasets.\n",
    "\n",
    "**Step 2: Dataset Integration**: Combining relevant datasets into a single, unified dataset that will serve as the foundation for subsequent analysis.\n",
    "\n",
    "**Step 3: Handling Missing Values**: Identifying and addressing missing values in the dataset to ensure data integrity. This step ensures no significant gaps hinder the analysis.\n",
    "\n",
    "**Step 4: Data Type Conversion**: Converting data columns to appropriate data types to optimize memory usage and prepare for feature engineering. Ensure consistency across all columns.\n",
    "\n",
    "**Step 5: Data Exploration**: Perform initial exploratory data analysis (EDA) to understand the dataset's structure and characteristics, visualizing key features to gain insights into the data.\n",
    "\n",
    "**Step 6: Feature Engineering**: Creating new features from the existing data to enhance model performance and capture additional insights. This includes transformations and derived features.\n",
    "\n",
    "**Step 7: Outlier Detection**: Identifying and addressing outliers in the dataset to ensure they do not negatively impact the analysis or models.\n",
    "\n",
    "**Step 8: Clustering Customers**: Identifying the most common customer profiles via clustering.\n",
    "\n",
    "**Step 8: Dataset Splitting**: Splitting the dataset into training and testing subsets to prepare for model development and evaluation. This step ensures reproducibility and robust performance metrics."
   ]
  },
  {
   "cell_type": "code",
   "execution_count": 2,
   "metadata": {},
   "outputs": [],
   "source": [
    "import pandas as pd\n",
    "\n",
    "# Load the dataset\n",
    "df = pd.read_csv('../2_data/telcocustomerchurn_combined.csv')"
   ]
  },
  {
   "cell_type": "markdown",
   "metadata": {},
   "source": [
    "### Key Findings from the Telco Customer Churn Dataset Description\n",
    "\n",
    "1. **General Statistics**:\n",
    "    - The dataset contains 7043 entries.\n",
    "    - The average age of customers is approximately 46.5 years, with a standard deviation of 16.75 years.\n",
    "    - The age range of customers is between 19 and 80 years.\n",
    "\n",
    "2. **Dependents**:\n",
    "    - The average number of dependents per customer is 0.47, indicating that most customers have fewer than one dependent.\n",
    "    - The maximum number of dependents for any customer is 9.\n",
    "\n",
    "4. **Satisfaction and Churn**:\n",
    "    - The average satisfaction score is 3.24 out of 5.\n",
    "    - The churn value indicates that approximately 26.5% of customers have churned.\n",
    "    - The churn score ranges from 5 to 96, with an average of 58.5.\n",
    "\n",
    "5. **Customer Lifetime Value (CLTV)**:\n",
    "    - The average CLTV is 4400.30, with a standard deviation of 1183.06.\n",
    "    - The CLTV ranges from 2003 to 6500.\n",
    "\n",
    "6. **Tenure and Charges**:\n",
    "    - The average tenure of customers is approximately 32.37 months.\n",
    "    - Monthly charges range from 18.25 to 118.75, with an average of 64.76.\n",
    "\n",
    "These insights provide a comprehensive overview of the dataset, highlighting key characteristics and distributions of various features."
   ]
  },
  {
   "cell_type": "code",
   "execution_count": 3,
   "metadata": {},
   "outputs": [
    {
     "name": "stdout",
     "output_type": "stream",
     "text": [
      "\n",
      "Number of rows and columns:\n",
      "(7043, 62)\n",
      "\n",
      "Data types of each column:\n",
      "Unnamed: 0             int64\n",
      "Customer ID           object\n",
      "Count                  int64\n",
      "Gender                object\n",
      "Age                    int64\n",
      "                      ...   \n",
      "Tenure                 int64\n",
      "Device Protection     object\n",
      "Tech Support          object\n",
      "Monthly Charges      float64\n",
      "Churn                 object\n",
      "Length: 62, dtype: object\n"
     ]
    }
   ],
   "source": [
    "# Number of rows and columns\n",
    "print(\"\\nNumber of rows and columns:\")\n",
    "print(df.shape)\n",
    "\n",
    "# Data types of each column\n",
    "print(\"\\nData types of each column:\")\n",
    "print(df.dtypes)"
   ]
  },
  {
   "cell_type": "markdown",
   "metadata": {},
   "source": [
    "\n",
    "## Data Exploration Outline for Telco Customer Churn Dataset\n",
    "\n",
    "### 1. Overview of the Dataset\n",
    "- Brief description of the dataset\n",
    "- Number of rows and columns\n",
    "- Data types of each column\n",
    "\n",
    "### 2. Summary Statistics\n",
    "- Descriptive statistics for numerical columns (mean, median, standard deviation, etc.)\n",
    "- Frequency distribution for categorical columns\n",
    "\n",
    "### 3. Missing Values Analysis\n",
    "- Identify columns with missing values\n",
    "- Percentage of missing values per column\n",
    "- Visual representation of missing values (e.g., heatmap)\n",
    "\n",
    "### 4. Distribution of Numerical Features\n",
    "- Histograms for numerical columns\n",
    "- Box plots to identify outliers\n",
    "\n",
    "### 5. Distribution of Categorical Features\n",
    "- Bar plots for categorical columns\n",
    "- Pie charts for categorical columns with few unique values\n",
    "\n",
    "### 6. Correlation Analysis\n",
    "- Correlation matrix for numerical features\n",
    "- Heatmap of the correlation matrix\n",
    "\n",
    "### 7. Churn Analysis\n",
    "- Distribution of the target variable (Churn)\n",
    "- Comparison of features between churned and non-churned customers\n",
    "\n",
    "### 8. Feature Relationships\n",
    "- Pair plots to visualize relationships between numerical features\n",
    "- Grouped bar plots to compare categorical features with the target variable\n",
    "\n",
    "### 9. Insights and Observations\n",
    "- Key findings from the data exploration\n",
    "- Potential features for modeling\n",
    "- Any data quality issues identified"
   ]
  },
  {
   "cell_type": "markdown",
   "metadata": {},
   "source": [
    "## Checking for inconsistencies"
   ]
  },
  {
   "cell_type": "code",
   "execution_count": 5,
   "metadata": {},
   "outputs": [
    {
     "name": "stdout",
     "output_type": "stream",
     "text": [
      "Number of duplicate rows: 0\n",
      "Number of negative values in Longitude: 7043\n"
     ]
    }
   ],
   "source": [
    "# Check for duplicate rows\n",
    "duplicate_rows = df.duplicated().sum()\n",
    "print(f\"Number of duplicate rows: {duplicate_rows}\")\n",
    "\n",
    "# Check for negative values in numerical columns\n",
    "numerical_columns = df.select_dtypes(include=['number']).columns\n",
    "for column in numerical_columns:\n",
    "    negative_values = df[df[column] < 0].shape[0]\n",
    "    if negative_values > 0:\n",
    "        print(f\"Number of negative values in {column}: {negative_values}\")"
   ]
  },
  {
   "cell_type": "markdown",
   "metadata": {},
   "source": [
    "Negative values in the Longitude are allowed since it is a measure for the geographical orientation. For the algorithms that need standardization, we will apply it directly in the algorithm files."
   ]
  },
  {
   "cell_type": "markdown",
   "metadata": {},
   "source": []
  },
  {
   "cell_type": "markdown",
   "metadata": {},
   "source": [
    "## Validation"
   ]
  },
  {
   "cell_type": "markdown",
   "metadata": {},
   "source": []
  }
 ],
 "metadata": {
  "kernelspec": {
   "display_name": ".venv",
   "language": "python",
   "name": "python3"
  },
  "language_info": {
   "codemirror_mode": {
    "name": "ipython",
    "version": 3
   },
   "file_extension": ".py",
   "mimetype": "text/x-python",
   "name": "python",
   "nbconvert_exporter": "python",
   "pygments_lexer": "ipython3",
   "version": "3.11.5"
  }
 },
 "nbformat": 4,
 "nbformat_minor": 2
}
