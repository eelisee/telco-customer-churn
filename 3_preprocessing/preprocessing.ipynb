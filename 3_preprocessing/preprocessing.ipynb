{
 "cells": [
  {
   "cell_type": "markdown",
   "metadata": {},
   "source": [
    "# Preprocessing of the Customer Churn Dataset"
   ]
  },
  {
   "cell_type": "markdown",
   "metadata": {},
   "source": [
    "\n",
    "## Exploring and Preprocessing the Customer Churn Dataset\n",
    "\n",
    "The dataset `Customer-Churn.csv` is located at `../2_data/Customer-Churn.csv`. Here is a structured approach to preprocess the data:\n",
    "\n",
    "1. **Load the Dataset**:\n",
    "    - Use pandas to load the CSV file into a DataFrame.\n",
    "\n",
    "2. **Understand the Data**:\n",
    "    - Display the first few rows of the dataset using `head()`.\n",
    "    - Use `info()` to get a concise summary of the DataFrame, including the data types and non-null counts.\n",
    "    - Use `describe()` to get statistical summaries of the numerical columns.\n",
    "\n",
    "3. **Handle Missing Values**:\n",
    "    - Identify columns with missing values using `isnull().sum()`.\n",
    "    - Decide on strategies to handle missing values, such as filling with mean/median/mode or dropping rows/columns.\n",
    "\n",
    "4. **Convert Data Types**:\n",
    "    - Convert categorical columns to the 'category' data type.\n",
    "    - Ensure numerical columns are in the correct format (e.g., integers, floats).\n",
    "\n",
    "5. **Encode Categorical Variables**:\n",
    "    - Use one-hot encoding or label encoding for categorical variables to convert them into numerical format.\n",
    "\n",
    "6. **Feature Engineering**:\n",
    "    - Create new features if necessary, such as aggregating or transforming existing features.\n",
    "    - Normalize or standardize numerical features to bring them to a similar scale.\n",
    "\n",
    "7. **Handle Outliers**:\n",
    "    - Identify outliers using statistical methods or visualization techniques.\n",
    "    - Decide on strategies to handle outliers, such as capping or removing them.\n",
    "\n",
    "8. **Split the Data**:\n",
    "    - Split the dataset into training and testing sets to evaluate the model performance.\n",
    "\n",
    "By following these steps, we can ensure that the dataset is clean, well-structured, and ready for further analysis or modeling.\n"
   ]
  },
  {
   "cell_type": "markdown",
   "metadata": {},
   "source": [
    "1. **Load the Dataset**:\n",
    "    - Use pandas to load the CSV file into a DataFrame."
   ]
  },
  {
   "cell_type": "code",
   "execution_count": 4,
   "metadata": {},
   "outputs": [],
   "source": [
    "import pandas as pd\n",
    "\n",
    "# Load the dataset\n",
    "file_path = '../2_data/Customer-Churn.csv'\n",
    "df = pd.read_csv(file_path)"
   ]
  },
  {
   "cell_type": "markdown",
   "metadata": {},
   "source": [
    "2. **Understand the Data**:\n",
    "    - Display the first few rows of the dataset using `head()`.\n",
    "    - Use `info()` to get a concise summary of the DataFrame, including the data types and non-null counts.\n",
    "    - Use `describe()` to get statistical summaries of the numerical columns."
   ]
  },
  {
   "cell_type": "code",
   "execution_count": 6,
   "metadata": {},
   "outputs": [
    {
     "name": "stdout",
     "output_type": "stream",
     "text": [
      "   customerID  gender  SeniorCitizen Partner Dependents  tenure PhoneService  \\\n",
      "0  7590-VHVEG  Female              0     Yes         No       1           No   \n",
      "1  5575-GNVDE    Male              0      No         No      34          Yes   \n",
      "2  3668-QPYBK    Male              0      No         No       2          Yes   \n",
      "3  7795-CFOCW    Male              0      No         No      45           No   \n",
      "4  9237-HQITU  Female              0      No         No       2          Yes   \n",
      "\n",
      "      MultipleLines InternetService OnlineSecurity  ... DeviceProtection  \\\n",
      "0  No phone service             DSL             No  ...               No   \n",
      "1                No             DSL            Yes  ...              Yes   \n",
      "2                No             DSL            Yes  ...               No   \n",
      "3  No phone service             DSL            Yes  ...              Yes   \n",
      "4                No     Fiber optic             No  ...               No   \n",
      "\n",
      "  TechSupport StreamingTV StreamingMovies        Contract PaperlessBilling  \\\n",
      "0          No          No              No  Month-to-month              Yes   \n",
      "1          No          No              No        One year               No   \n",
      "2          No          No              No  Month-to-month              Yes   \n",
      "3         Yes          No              No        One year               No   \n",
      "4          No          No              No  Month-to-month              Yes   \n",
      "\n",
      "               PaymentMethod MonthlyCharges  TotalCharges Churn  \n",
      "0           Electronic check          29.85         29.85    No  \n",
      "1               Mailed check          56.95        1889.5    No  \n",
      "2               Mailed check          53.85        108.15   Yes  \n",
      "3  Bank transfer (automatic)          42.30       1840.75    No  \n",
      "4           Electronic check          70.70        151.65   Yes  \n",
      "\n",
      "[5 rows x 21 columns]\n"
     ]
    }
   ],
   "source": [
    "# Display the first few rows of the dataset\n",
    "print(df.head())"
   ]
  },
  {
   "cell_type": "markdown",
   "metadata": {},
   "source": [
    "### Initial Exploration of the Dataset\n",
    "\n",
    "Upon examining the first few rows of the dataset using the `head()` method, we observe the following:\n",
    "\n",
    "- **customerID**: Unique identifier for each customer.\n",
    "- **gender**: Gender of the customer (Male/Female).\n",
    "- **SeniorCitizen**: Indicates if the customer is a senior citizen (0: No, 1: Yes).\n",
    "- **Partner**: Indicates if the customer has a partner (Yes/No).\n",
    "- **Dependents**: Indicates if the customer has dependents (Yes/No).\n",
    "- **tenure**: Number of months the customer has stayed with the company.\n",
    "- **PhoneService**: Indicates if the customer has phone service (Yes/No).\n",
    "- **MultipleLines**: Indicates if the customer has multiple lines (Yes/No/No phone service).\n",
    "- **InternetService**: Type of internet service (DSL/Fiber optic/No).\n",
    "- **OnlineSecurity**: Indicates if the customer has online security (Yes/No).\n",
    "- **OnlineBackup**: Indicates if the customer has online backup (Yes/No).\n",
    "- **DeviceProtection**: Indicates if the customer has device protection (Yes/No).\n",
    "- **TechSupport**: Indicates if the customer has tech support (Yes/No).\n",
    "- **StreamingTV**: Indicates if the customer has streaming TV (Yes/No).\n",
    "- **StreamingMovies**: Indicates if the customer has streaming movies (Yes/No).\n",
    "- **Contract**: Type of contract (Month-to-month/One year/Two year).\n",
    "- **PaperlessBilling**: Indicates if the customer has paperless billing (Yes/No).\n",
    "- **PaymentMethod**: Payment method used by the customer (Electronic check/Mailed check/Bank transfer (automatic)/Credit card (automatic)).\n",
    "- **MonthlyCharges**: Monthly charges incurred by the customer.\n",
    "- **TotalCharges**: Total charges incurred by the customer.\n",
    "- **Churn**: Indicates if the customer has churned (Yes/No).\n",
    "\n",
    "### Noteworthy Observations\n",
    "\n",
    "- **TotalCharges**: This column is of type `object` instead of `float64`, which suggests that there might be some non-numeric values or missing values that need to be handled.\n",
    "- **SeniorCitizen**: This column is of type `int64` but represents a binary categorical variable, which might be better represented as a category.\n",
    "- **Churn**: This is the target variable indicating whether the customer has churned, which will be crucial for any predictive modeling.\n",
    "\n",
    "These observations will guide the preprocessing steps, such as handling missing values, converting data types, and encoding categorical variables."
   ]
  },
  {
   "cell_type": "code",
   "execution_count": 7,
   "metadata": {},
   "outputs": [
    {
     "name": "stdout",
     "output_type": "stream",
     "text": [
      "<class 'pandas.core.frame.DataFrame'>\n",
      "RangeIndex: 7043 entries, 0 to 7042\n",
      "Data columns (total 21 columns):\n",
      " #   Column            Non-Null Count  Dtype  \n",
      "---  ------            --------------  -----  \n",
      " 0   customerID        7043 non-null   object \n",
      " 1   gender            7043 non-null   object \n",
      " 2   SeniorCitizen     7043 non-null   int64  \n",
      " 3   Partner           7043 non-null   object \n",
      " 4   Dependents        7043 non-null   object \n",
      " 5   tenure            7043 non-null   int64  \n",
      " 6   PhoneService      7043 non-null   object \n",
      " 7   MultipleLines     7043 non-null   object \n",
      " 8   InternetService   7043 non-null   object \n",
      " 9   OnlineSecurity    7043 non-null   object \n",
      " 10  OnlineBackup      7043 non-null   object \n",
      " 11  DeviceProtection  7043 non-null   object \n",
      " 12  TechSupport       7043 non-null   object \n",
      " 13  StreamingTV       7043 non-null   object \n",
      " 14  StreamingMovies   7043 non-null   object \n",
      " 15  Contract          7043 non-null   object \n",
      " 16  PaperlessBilling  7043 non-null   object \n",
      " 17  PaymentMethod     7043 non-null   object \n",
      " 18  MonthlyCharges    7043 non-null   float64\n",
      " 19  TotalCharges      7043 non-null   object \n",
      " 20  Churn             7043 non-null   object \n",
      "dtypes: float64(1), int64(2), object(18)\n",
      "memory usage: 1.1+ MB\n",
      "None\n"
     ]
    }
   ],
   "source": [
    "# Get a concise summary of the DataFrame\n",
    "print(df.info())"
   ]
  },
  {
   "cell_type": "markdown",
   "metadata": {},
   "source": [
    "Key Points for EDA\n",
    "Data Types and Conversion:\n",
    "\n",
    "TotalCharges: This column is of type object but likely contains numerical data. Investigate and convert it to a numeric type if appropriate, handling any non-numeric values.\n",
    "Categorical Variables:\n",
    "\n",
    "High Cardinality: Columns like customerID have unique values for each entry and might not be useful for analysis.\n",
    "Binary Categories: Columns like gender, Partner, Dependents, PhoneService, PaperlessBilling, and Churn are binary and can be easily analyzed for distribution and correlation.\n",
    "Numerical Variables:\n",
    "\n",
    "SeniorCitizen, tenure, MonthlyCharges: Analyze the distribution, central tendency, and dispersion. Look for outliers and patterns.\n",
    "Correlation Analysis: Check how these numerical variables correlate with each other and with the target variable Churn.\n",
    "Missing Values:\n",
    "\n",
    "Although info() shows no missing values, ensure there are no hidden missing values (e.g., empty strings or placeholders) in columns like TotalCharges.\n",
    "\n",
    "Distribution Analysis:\n",
    "\n",
    "Histograms and Box Plots: For numerical columns to understand their distribution and identify outliers.\n",
    "Bar Plots: For categorical columns to see the frequency distribution of each category.\n",
    "Relationships and Patterns:\n",
    "\n",
    "Pair Plots: To visualize relationships between numerical variables.\n",
    "Group By Analysis: Group data by categorical variables (e.g., Contract, PaymentMethod) to see how they affect numerical variables and Churn.\n",
    "Target Variable Analysis:\n",
    "\n",
    "Churn: Analyze the distribution of the target variable Churn to understand the class balance. This is crucial for model building.\n",
    "Feature Engineering:\n",
    "\n",
    "New Features: Create new features that might capture more information, such as tenure groups or interaction terms between categorical variables."
   ]
  },
  {
   "cell_type": "code",
   "execution_count": 9,
   "metadata": {},
   "outputs": [
    {
     "name": "stdout",
     "output_type": "stream",
     "text": [
      "       SeniorCitizen       tenure  MonthlyCharges\n",
      "count    7043.000000  7043.000000     7043.000000\n",
      "mean        0.162147    32.371149       64.761692\n",
      "std         0.368612    24.559481       30.090047\n",
      "min         0.000000     0.000000       18.250000\n",
      "25%         0.000000     9.000000       35.500000\n",
      "50%         0.000000    29.000000       70.350000\n",
      "75%         0.000000    55.000000       89.850000\n",
      "max         1.000000    72.000000      118.750000\n"
     ]
    }
   ],
   "source": [
    "# Get statistical summaries of the numerical columns\n",
    "print(df.describe())"
   ]
  },
  {
   "cell_type": "markdown",
   "metadata": {},
   "source": [
    "The majority of the customers are not senior citizens, as indicated by the mean value of 0.162 and the fact that the 25th, 50th, and 75th percentiles are all 0.\n",
    "Only a small fraction (approximately 16.2%) of the customers are senior citizens.\n",
    "The tenure of customers varies widely, with a standard deviation of 24.56.\n",
    "The median tenure is 29 months, indicating that half of the customers have been with the company for less than 29 months.\n",
    "The range of tenure is from 0 to 72 months, showing a broad distribution of customer loyalty.\n",
    "The average monthly charge is $64.76, with a standard deviation of $30.09, indicating a wide range of charges.\n",
    "The median monthly charge is $70.35, suggesting that half of the customers pay less than this amount.\n",
    "The range of monthly charges is from $18.25 to $118.75, showing significant variability in the pricing.\n",
    "SeniorCitizen: The most striking observation is the low proportion of senior citizens among the customers.\n",
    "Tenure: The wide range and high standard deviation in tenure suggest diverse customer retention rates.\n",
    "MonthlyCharges: The variability in monthly charges indicates a diverse customer base with different service levels or packages.\n",
    "\n"
   ]
  },
  {
   "cell_type": "markdown",
   "metadata": {},
   "source": [
    "3. **Handle Missing Values**:\n",
    "    - Identify columns with missing values using `isnull().sum()`.\n",
    "    - Decide on strategies to handle missing values, such as filling with mean/median/mode or dropping rows/columns."
   ]
  },
  {
   "cell_type": "code",
   "execution_count": 10,
   "metadata": {},
   "outputs": [
    {
     "name": "stdout",
     "output_type": "stream",
     "text": [
      "customerID          0\n",
      "gender              0\n",
      "SeniorCitizen       0\n",
      "Partner             0\n",
      "Dependents          0\n",
      "tenure              0\n",
      "PhoneService        0\n",
      "MultipleLines       0\n",
      "InternetService     0\n",
      "OnlineSecurity      0\n",
      "OnlineBackup        0\n",
      "DeviceProtection    0\n",
      "TechSupport         0\n",
      "StreamingTV         0\n",
      "StreamingMovies     0\n",
      "Contract            0\n",
      "PaperlessBilling    0\n",
      "PaymentMethod       0\n",
      "MonthlyCharges      0\n",
      "TotalCharges        0\n",
      "Churn               0\n",
      "dtype: int64\n",
      "customerID           0\n",
      "gender               0\n",
      "SeniorCitizen        0\n",
      "Partner              0\n",
      "Dependents           0\n",
      "tenure               0\n",
      "PhoneService         0\n",
      "MultipleLines        0\n",
      "InternetService      0\n",
      "OnlineSecurity       0\n",
      "OnlineBackup         0\n",
      "DeviceProtection     0\n",
      "TechSupport          0\n",
      "StreamingTV          0\n",
      "StreamingMovies      0\n",
      "Contract             0\n",
      "PaperlessBilling     0\n",
      "PaymentMethod        0\n",
      "MonthlyCharges       0\n",
      "TotalCharges        11\n",
      "Churn                0\n",
      "dtype: int64\n",
      "customerID          0\n",
      "gender              0\n",
      "SeniorCitizen       0\n",
      "Partner             0\n",
      "Dependents          0\n",
      "tenure              0\n",
      "PhoneService        0\n",
      "MultipleLines       0\n",
      "InternetService     0\n",
      "OnlineSecurity      0\n",
      "OnlineBackup        0\n",
      "DeviceProtection    0\n",
      "TechSupport         0\n",
      "StreamingTV         0\n",
      "StreamingMovies     0\n",
      "Contract            0\n",
      "PaperlessBilling    0\n",
      "PaymentMethod       0\n",
      "MonthlyCharges      0\n",
      "TotalCharges        0\n",
      "Churn               0\n",
      "dtype: int64\n"
     ]
    },
    {
     "name": "stderr",
     "output_type": "stream",
     "text": [
      "/var/folders/qg/82ll9gvd1pd4329hnkdpf8ch0000gn/T/ipykernel_30505/620398679.py:13: FutureWarning: A value is trying to be set on a copy of a DataFrame or Series through chained assignment using an inplace method.\n",
      "The behavior will change in pandas 3.0. This inplace method will never work because the intermediate object on which we are setting values always behaves as a copy.\n",
      "\n",
      "For example, when doing 'df[col].method(value, inplace=True)', try using 'df.method({col: value}, inplace=True)' or df[col] = df[col].method(value) instead, to perform the operation inplace on the original object.\n",
      "\n",
      "\n",
      "  df['TotalCharges'].fillna(df['TotalCharges'].median(), inplace=True)\n"
     ]
    }
   ],
   "source": [
    "# Identify columns with missing values\n",
    "missing_values = df.isnull().sum()\n",
    "print(missing_values)\n",
    "\n",
    "# Since the dataset summary shows no missing values, let's check for any hidden missing values in 'TotalCharges'\n",
    "df['TotalCharges'] = pd.to_numeric(df['TotalCharges'], errors='coerce')\n",
    "\n",
    "# Now check again for missing values after conversion\n",
    "missing_values_after_conversion = df.isnull().sum()\n",
    "print(missing_values_after_conversion)\n",
    "\n",
    "# Handle missing values in 'TotalCharges' by filling with the median\n",
    "df['TotalCharges'].fillna(df['TotalCharges'].median(), inplace=True)\n",
    "\n",
    "# Verify that there are no more missing values\n",
    "final_missing_values = df.isnull().sum()\n",
    "print(final_missing_values)"
   ]
  },
  {
   "cell_type": "markdown",
   "metadata": {},
   "source": [
    "### Evaluation of Missing Values\n",
    "\n",
    "The output of the missing values analysis reveals the following:\n",
    "\n",
    "**Initial Check**:\n",
    "    - Initially, there were no missing values detected in any of the columns, including `TotalCharges`.\n",
    "\n",
    "**After Conversion**:\n",
    "    - After converting the `TotalCharges` column to numeric, 11 missing values were identified. This indicates that there were non-numeric values in the `TotalCharges` column that were converted to `NaN`.\n",
    "\n",
    "**Final Check**:\n",
    "    - After handling the missing values in `TotalCharges` by filling them with the median, there are no more missing values in the dataset.\n",
    "\n",
    "- The initial check did not reveal any missing values, but the conversion of `TotalCharges` to numeric exposed 11 missing values.\n",
    "- These missing values were successfully handled by filling them with the median value of the `TotalCharges` column.\n",
    "- The final check confirms that there are no missing values in the dataset, ensuring that the data is now clean and ready for further analysis."
   ]
  },
  {
   "cell_type": "markdown",
   "metadata": {},
   "source": [
    "4. **Convert Data Types**:\n",
    "    - Convert categorical columns to the 'category' data type.\n",
    "    - Ensure numerical columns are in the correct format (e.g., integers, floats)."
   ]
  },
  {
   "cell_type": "code",
   "execution_count": 11,
   "metadata": {},
   "outputs": [
    {
     "name": "stdout",
     "output_type": "stream",
     "text": [
      "customerID            object\n",
      "gender              category\n",
      "SeniorCitizen          int64\n",
      "Partner             category\n",
      "Dependents          category\n",
      "tenure                 int64\n",
      "PhoneService        category\n",
      "MultipleLines       category\n",
      "InternetService     category\n",
      "OnlineSecurity      category\n",
      "OnlineBackup        category\n",
      "DeviceProtection    category\n",
      "TechSupport         category\n",
      "StreamingTV         category\n",
      "StreamingMovies     category\n",
      "Contract            category\n",
      "PaperlessBilling    category\n",
      "PaymentMethod       category\n",
      "MonthlyCharges       float64\n",
      "TotalCharges         float64\n",
      "Churn               category\n",
      "dtype: object\n"
     ]
    }
   ],
   "source": [
    "# Convert categorical columns to 'category' data type\n",
    "categorical_columns = ['gender', 'Partner', 'Dependents', 'PhoneService', 'MultipleLines', 'InternetService', \n",
    "                       'OnlineSecurity', 'OnlineBackup', 'DeviceProtection', 'TechSupport', 'StreamingTV', \n",
    "                       'StreamingMovies', 'Contract', 'PaperlessBilling', 'PaymentMethod', 'Churn']\n",
    "\n",
    "for col in categorical_columns:\n",
    "    df[col] = df[col].astype('category')\n",
    "\n",
    "# Ensure numerical columns are in the correct format\n",
    "df['SeniorCitizen'] = df['SeniorCitizen'].astype('int64')\n",
    "df['tenure'] = df['tenure'].astype('int64')\n",
    "df['MonthlyCharges'] = df['MonthlyCharges'].astype('float64')\n",
    "df['TotalCharges'] = df['TotalCharges'].astype('float64')\n",
    "\n",
    "# Verify the changes\n",
    "print(df.dtypes)"
   ]
  },
  {
   "cell_type": "markdown",
   "metadata": {},
   "source": [
    "5. **Encode Categorical Variables**:\n",
    "    - Use one-hot encoding or label encoding for categorical variables to convert them into numerical format."
   ]
  },
  {
   "cell_type": "code",
   "execution_count": 12,
   "metadata": {},
   "outputs": [
    {
     "name": "stdout",
     "output_type": "stream",
     "text": [
      "   customerID  SeniorCitizen  tenure  MonthlyCharges  TotalCharges  \\\n",
      "0  7590-VHVEG              0       1           29.85         29.85   \n",
      "1  5575-GNVDE              0      34           56.95       1889.50   \n",
      "2  3668-QPYBK              0       2           53.85        108.15   \n",
      "3  7795-CFOCW              0      45           42.30       1840.75   \n",
      "4  9237-HQITU              0       2           70.70        151.65   \n",
      "\n",
      "   gender_Male  Partner_Yes  Dependents_Yes  PhoneService_Yes  \\\n",
      "0        False         True           False             False   \n",
      "1         True        False           False              True   \n",
      "2         True        False           False              True   \n",
      "3         True        False           False             False   \n",
      "4        False        False           False              True   \n",
      "\n",
      "   MultipleLines_No phone service  ...  StreamingTV_Yes  \\\n",
      "0                            True  ...            False   \n",
      "1                           False  ...            False   \n",
      "2                           False  ...            False   \n",
      "3                            True  ...            False   \n",
      "4                           False  ...            False   \n",
      "\n",
      "   StreamingMovies_No internet service  StreamingMovies_Yes  \\\n",
      "0                                False                False   \n",
      "1                                False                False   \n",
      "2                                False                False   \n",
      "3                                False                False   \n",
      "4                                False                False   \n",
      "\n",
      "   Contract_One year  Contract_Two year  PaperlessBilling_Yes  \\\n",
      "0              False              False                  True   \n",
      "1               True              False                 False   \n",
      "2              False              False                  True   \n",
      "3               True              False                 False   \n",
      "4              False              False                  True   \n",
      "\n",
      "   PaymentMethod_Credit card (automatic)  PaymentMethod_Electronic check  \\\n",
      "0                                  False                            True   \n",
      "1                                  False                           False   \n",
      "2                                  False                           False   \n",
      "3                                  False                           False   \n",
      "4                                  False                            True   \n",
      "\n",
      "   PaymentMethod_Mailed check  Churn_Yes  \n",
      "0                       False      False  \n",
      "1                        True      False  \n",
      "2                        True       True  \n",
      "3                       False      False  \n",
      "4                       False       True  \n",
      "\n",
      "[5 rows x 32 columns]\n"
     ]
    }
   ],
   "source": [
    "# Use one-hot encoding for categorical variables\n",
    "df_encoded = pd.get_dummies(df, columns=categorical_columns, drop_first=True)\n",
    "\n",
    "# Display the first few rows of the encoded DataFrame\n",
    "print(df_encoded.head())"
   ]
  },
  {
   "cell_type": "markdown",
   "metadata": {},
   "source": [
    "### Conclusions from the Output Data\n",
    "\n",
    "1. **Customer Tenure and Charges**:\n",
    "    - The `tenure` of customers varies significantly, ranging from 1 to 45 months in the sample.\n",
    "    - `MonthlyCharges` and `TotalCharges` also show a wide range, indicating diverse service usage and billing amounts among customers.\n",
    "\n",
    "2. **Gender Distribution**:\n",
    "    - The `gender_Male` column indicates the gender of the customers, with both male and female customers represented in the dataset.\n",
    "\n",
    "3. **Partner and Dependents**:\n",
    "    - The `Partner_Yes` and `Dependents_Yes` columns show whether customers have partners or dependents. In the sample, some customers have partners, but none have dependents.\n",
    "\n",
    "4. **Phone and Internet Services**:\n",
    "    - The `PhoneService_Yes` and `InternetService_Fiber optic` columns indicate whether customers have phone and fiber optic internet services. There is a mix of customers with and without these services.\n",
    "\n",
    "5. **Streaming Services**:\n",
    "    - The `StreamingTV_Yes` and `StreamingMovies_Yes` columns show whether customers subscribe to streaming TV and movies services. In the sample, none of the customers have these services.\n",
    "\n",
    "6. **Contract Types**:\n",
    "    - The `Contract_One year` and `Contract_Two year` columns indicate the type of contract customers have. The sample includes customers with month-to-month, one-year, and two-year contracts.\n",
    "\n",
    "7. **Billing and Payment Methods**:\n",
    "    - The `PaperlessBilling_Yes` column shows whether customers use paperless billing. Some customers use paperless billing, while others do not.\n",
    "    - The `PaymentMethod_*` columns indicate the payment methods used by customers, including electronic check, mailed check, and credit card.\n",
    "\n",
    "8. **Churn**:\n",
    "    - The `Churn_Yes` column indicates whether customers have churned. In the sample, there are both churned and non-churned customers.\n",
    "\n",
    "### Noteworthy Observations\n",
    "\n",
    "- **Diverse Customer Profiles**: The dataset includes a diverse range of customer profiles in terms of tenure, charges, services subscribed, and contract types.\n",
    "- **Churn Analysis**: The presence of both churned and non-churned customers allows for analysis of factors contributing to customer churn.\n",
    "- **Service Usage**: The variability in service usage (e.g., phone, internet, streaming) can provide insights into customer preferences and potential areas for service improvement.\n",
    "- **Billing and Payment Preferences**: Understanding billing and payment preferences can help tailor customer service and billing processes to improve customer satisfaction and retention.\n"
   ]
  },
  {
   "cell_type": "markdown",
   "metadata": {},
   "source": [
    "6. **Feature Engineering**:\n",
    "    - Create new features if necessary, such as aggregating or transforming existing features.\n",
    "    - Normalize or standardize numerical features to bring them to a similar scale."
   ]
  },
  {
   "cell_type": "code",
   "execution_count": 14,
   "metadata": {},
   "outputs": [
    {
     "name": "stdout",
     "output_type": "stream",
     "text": [
      "   customerID  gender SeniorCitizen Partner Dependents    tenure PhoneService  \\\n",
      "0  7590-VHVEG  Female             0     Yes         No -1.277445           No   \n",
      "1  5575-GNVDE    Male             0      No         No  0.066327          Yes   \n",
      "2  3668-QPYBK    Male             0      No         No -1.236724          Yes   \n",
      "3  7795-CFOCW    Male             0      No         No  0.514251           No   \n",
      "4  9237-HQITU  Female             0      No         No -1.236724          Yes   \n",
      "\n",
      "      MultipleLines InternetService OnlineSecurity  ... StreamingTV  \\\n",
      "0  No phone service             DSL             No  ...          No   \n",
      "1                No             DSL            Yes  ...          No   \n",
      "2                No             DSL            Yes  ...          No   \n",
      "3  No phone service             DSL            Yes  ...          No   \n",
      "4                No     Fiber optic             No  ...          No   \n",
      "\n",
      "  StreamingMovies        Contract PaperlessBilling              PaymentMethod  \\\n",
      "0              No  Month-to-month              Yes           Electronic check   \n",
      "1              No        One year               No               Mailed check   \n",
      "2              No  Month-to-month              Yes               Mailed check   \n",
      "3              No        One year               No  Bank transfer (automatic)   \n",
      "4              No  Month-to-month              Yes           Electronic check   \n",
      "\n",
      "  MonthlyCharges TotalCharges Churn  tenure_group  TotalChargesPerMonth  \n",
      "0      -1.160323    -0.994242    No          0-12             -1.151302  \n",
      "1      -0.259629    -0.173244    No         24-48             -0.301458  \n",
      "2      -0.362660    -0.959674   Yes          0-12             -0.350966  \n",
      "3      -0.746535    -0.194766    No         24-48             -0.786053  \n",
      "4       0.197365    -0.940470   Yes          0-12              0.367602  \n",
      "\n",
      "[5 rows x 23 columns]\n"
     ]
    },
    {
     "name": "stderr",
     "output_type": "stream",
     "text": [
      "/var/folders/qg/82ll9gvd1pd4329hnkdpf8ch0000gn/T/ipykernel_30505/2830277533.py:10: FutureWarning: A value is trying to be set on a copy of a DataFrame or Series through chained assignment using an inplace method.\n",
      "The behavior will change in pandas 3.0. This inplace method will never work because the intermediate object on which we are setting values always behaves as a copy.\n",
      "\n",
      "For example, when doing 'df[col].method(value, inplace=True)', try using 'df.method({col: value}, inplace=True)' or df[col] = df[col].method(value) instead, to perform the operation inplace on the original object.\n",
      "\n",
      "\n",
      "  df['TotalChargesPerMonth'].replace([np.inf, -np.inf], np.nan, inplace=True)  # Replace infinite values with NaN\n",
      "/var/folders/qg/82ll9gvd1pd4329hnkdpf8ch0000gn/T/ipykernel_30505/2830277533.py:11: FutureWarning: A value is trying to be set on a copy of a DataFrame or Series through chained assignment using an inplace method.\n",
      "The behavior will change in pandas 3.0. This inplace method will never work because the intermediate object on which we are setting values always behaves as a copy.\n",
      "\n",
      "For example, when doing 'df[col].method(value, inplace=True)', try using 'df.method({col: value}, inplace=True)' or df[col] = df[col].method(value) instead, to perform the operation inplace on the original object.\n",
      "\n",
      "\n",
      "  df['TotalChargesPerMonth'].fillna(0, inplace=True)  # Handle division by zero for tenure = 0\n"
     ]
    }
   ],
   "source": [
    "import numpy as np\n",
    "from sklearn.preprocessing import StandardScaler\n",
    "\n",
    "# Create a new feature for tenure groups\n",
    "df['tenure_group'] = pd.cut(df['tenure'], bins=[0, 12, 24, 48, 60, np.inf], labels=['0-12', '12-24', '24-48', '48-60', '60+'])\n",
    "\n",
    "# Create a new feature for total charges per month\n",
    "df['TotalCharges'] = pd.to_numeric(df['TotalCharges'], errors='coerce')  # Ensure TotalCharges is numeric\n",
    "df['TotalChargesPerMonth'] = df['TotalCharges'] / df['tenure']\n",
    "df['TotalChargesPerMonth'].replace([np.inf, -np.inf], np.nan, inplace=True)  # Replace infinite values with NaN\n",
    "df['TotalChargesPerMonth'].fillna(0, inplace=True)  # Handle division by zero for tenure = 0\n",
    "\n",
    "# Convert SeniorCitizen to a categorical feature\n",
    "df['SeniorCitizen'] = df['SeniorCitizen'].astype('category')\n",
    "\n",
    "# Normalize numerical features\n",
    "scaler = StandardScaler()\n",
    "numerical_features = ['tenure', 'MonthlyCharges', 'TotalCharges', 'TotalChargesPerMonth']\n",
    "df[numerical_features] = scaler.fit_transform(df[numerical_features])\n",
    "\n",
    "# Verify the changes\n",
    "print(df.head())"
   ]
  },
  {
   "cell_type": "markdown",
   "metadata": {},
   "source": [
    "### Additional Features Created\n",
    "\n",
    "1. **tenure_group**:\n",
    "    - **Description**: This feature categorizes the `tenure` of customers into groups: '0-12', '12-24', '24-48', '48-60', and '60+' months.\n",
    "    - **Reason for Creation**: Grouping the tenure into categories helps in understanding the distribution of customer loyalty over time. It can reveal patterns in customer retention and identify which tenure groups are more likely to churn.\n",
    "\n",
    "2. **TotalChargesPerMonth**:\n",
    "    - **Description**: This feature is calculated by dividing the `TotalCharges` by the `tenure`, representing the average charges per month for each customer.\n",
    "    - **Reason for Creation**: This feature normalizes the total charges over the tenure period, providing a clearer picture of the monthly expenditure of customers. It helps in identifying customers who might be paying more or less on average per month, which can be crucial for understanding customer satisfaction and predicting churn.\n",
    "\n",
    "### Importance for Analysis/Prediction\n",
    "\n",
    "- **tenure_group**: By categorizing the tenure, we can perform more granular analysis on customer retention and churn rates across different tenure groups. This can help in identifying specific periods where customers are more likely to churn, allowing for targeted retention strategies.\n",
    "\n",
    "- **TotalChargesPerMonth**: This feature provides insight into the average monthly spending of customers, which can be a significant factor in predicting churn. Customers with higher average monthly charges might have different satisfaction levels or service usage patterns compared to those with lower charges. This feature can help in segmenting customers based on their spending behavior and tailoring marketing or retention efforts accordingly.\n",
    "\n",
    "These additional features enhance the dataset by providing more detailed and actionable insights, which are essential for effective analysis and predictive modeling.\n"
   ]
  },
  {
   "cell_type": "markdown",
   "metadata": {},
   "source": [
    "7. **Handle Outliers**:\n",
    "    - Identify outliers using statistical methods or visualization techniques.\n",
    "    - Decide on strategies to handle outliers, such as capping or removing them."
   ]
  },
  {
   "cell_type": "code",
   "execution_count": 15,
   "metadata": {},
   "outputs": [
    {
     "name": "stdout",
     "output_type": "stream",
     "text": [
      "             tenure  MonthlyCharges  TotalCharges  TotalChargesPerMonth\n",
      "count  7.043000e+03    7.043000e+03  7.043000e+03          7.043000e+03\n",
      "mean  -2.421273e-17   -6.406285e-17 -1.488074e-17          7.465592e-17\n",
      "std    1.000071e+00    1.000071e+00  1.000071e+00          1.000071e+00\n",
      "min   -1.318165e+00   -1.545860e+00 -9.991203e-01         -2.137475e+00\n",
      "25%   -9.516817e-01   -9.725399e-01 -8.298459e-01         -9.597171e-01\n",
      "50%   -1.372744e-01    1.857327e-01 -3.904632e-01          1.850696e-01\n",
      "75%    9.214551e-01    8.338335e-01  6.642871e-01          8.416645e-01\n",
      "max    1.613701e+00    1.794352e+00  2.826743e+00          1.873292e+00\n"
     ]
    }
   ],
   "source": [
    "# Identify outliers using the IQR method\n",
    "def cap_outliers(df, column):\n",
    "    Q1 = df[column].quantile(0.25)\n",
    "    Q3 = df[column].quantile(0.75)\n",
    "    IQR = Q3 - Q1\n",
    "    lower_bound = Q1 - 1.5 * IQR\n",
    "    upper_bound = Q3 + 1.5 * IQR\n",
    "    df[column] = np.where(df[column] < lower_bound, lower_bound, df[column])\n",
    "    df[column] = np.where(df[column] > upper_bound, upper_bound, df[column])\n",
    "\n",
    "# Apply the capping function to numerical features\n",
    "for col in numerical_features:\n",
    "    cap_outliers(df, col)\n",
    "\n",
    "# Verify the changes\n",
    "print(df[numerical_features].describe())"
   ]
  },
  {
   "cell_type": "markdown",
   "metadata": {},
   "source": [
    "\n",
    "### Handling Outliers\n",
    "\n",
    "The outlier problem in the dataset was addressed using the Interquartile Range (IQR) method. Here's how the solution works:\n",
    "\n",
    "1. **Identification of Outliers**:\n",
    "    - For each numerical feature, the first quartile (Q1) and third quartile (Q3) were calculated.\n",
    "    - The IQR was computed as the difference between Q3 and Q1.\n",
    "    - Lower and upper bounds were determined using the formula:\n",
    "      \\[\n",
    "      \\text{Lower Bound} = Q1 - 1.5 \\times \\text{IQR}\n",
    "      \\]\n",
    "      \\[\n",
    "      \\text{Upper Bound} = Q3 + 1.5 \\times \\text{IQR}\n",
    "      \\]\n",
    "\n",
    "2. **Capping Outliers**:\n",
    "    - Values below the lower bound were capped at the lower bound.\n",
    "    - Values above the upper bound were capped at the upper bound.\n",
    "\n",
    "3. **Normalization**:\n",
    "    - After capping the outliers, the numerical features were normalized using the `StandardScaler` from scikit-learn. This transformation scales the features to have a mean of 0 and a standard deviation of 1.\n",
    "\n",
    "### Explanation\n",
    "\n",
    "- **Normalization**: The mean values of the features are close to zero, and the standard deviations are close to one, indicating successful normalization.\n",
    "- **Capping**: The minimum and maximum values are within a reasonable range, showing that extreme outliers have been capped effectively.\n",
    "- **Distribution**: The quartiles (25%, 50%, 75%) are well-distributed, suggesting that the data is now more robust for further analysis and modeling.\n",
    "\n",
    "By capping the outliers and normalizing the data, we ensure that the numerical features are on a similar scale and that extreme values do not disproportionately influence the analysis or predictive models.\n"
   ]
  },
  {
   "cell_type": "markdown",
   "metadata": {},
   "source": [
    "8. **Split the Data**:\n",
    "    - Split the dataset into training and testing sets to evaluate the model performance."
   ]
  },
  {
   "cell_type": "code",
   "execution_count": null,
   "metadata": {
    "vscode": {
     "languageId": "julia"
    }
   },
   "outputs": [],
   "source": [
    "from sklearn.model_selection import train_test_split\n",
    "\n",
    "# Define the features and target variable\n",
    "X = df_encoded.drop(columns=['customerID', 'Churn_Yes'])\n",
    "y = df_encoded['Churn_Yes']\n",
    "\n",
    "# Split the dataset into training and testing sets\n",
    "X_train, X_test, y_train, y_test = train_test_split(X, y, test_size=0.2, random_state=42)\n",
    "\n",
    "# Verify the shapes of the resulting datasets\n",
    "print(f\"X_train shape: {X_train.shape}\")\n",
    "print(f\"X_test shape: {X_test.shape}\")\n",
    "print(f\"y_train shape: {y_train.shape}\")\n",
    "print(f\"y_test shape: {y_test.shape}\")"
   ]
  },
  {
   "cell_type": "markdown",
   "metadata": {},
   "source": [
    "\n",
    "Splits the dataset into training and testing sets.\n",
    "\n",
    "The dataset is split using a fixed random state to ensure reproducibility. The test size is set to 0.2, meaning 20% of the data will be used for testing, and the remaining 80% will be used for training. This split ratio is commonly used to provide a balance between having enough data to train the model and having sufficient data to evaluate its performance.\n",
    "\n",
    "Parameters:\n",
    "    X (array-like): Features dataset.\n",
    "    y (array-like): Target variable.\n",
    "\n",
    "Returns:\n",
    "    X_train (array-like): Training features.\n",
    "    X_test (array-like): Testing features.\n",
    "    y_train (array-like): Training target variable.\n",
    "    y_test (array-like): Testing target variable.\n"
   ]
  },
  {
   "cell_type": "code",
   "execution_count": null,
   "metadata": {},
   "outputs": [],
   "source": []
  }
 ],
 "metadata": {
  "kernelspec": {
   "display_name": ".venv",
   "language": "python",
   "name": "python3"
  },
  "language_info": {
   "codemirror_mode": {
    "name": "ipython",
    "version": 3
   },
   "file_extension": ".py",
   "mimetype": "text/x-python",
   "name": "python",
   "nbconvert_exporter": "python",
   "pygments_lexer": "ipython3",
   "version": "3.11.5"
  }
 },
 "nbformat": 4,
 "nbformat_minor": 2
}
